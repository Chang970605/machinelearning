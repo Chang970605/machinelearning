{
 "cells": [
  {
   "cell_type": "code",
   "execution_count": 1,
   "metadata": {
    "ExecuteTime": {
     "end_time": "2020-03-21T02:06:28.017323Z",
     "start_time": "2020-03-21T02:06:27.405178Z"
    }
   },
   "outputs": [],
   "source": [
    "import numpy as np\n",
    "import pandas as pd\n",
    "import warnings\n",
    "import os\n",
    "from tqdm import tqdm\n",
    "from sklearn import preprocessing, metrics\n",
    "import lightgbm as lgb\n",
    "import matplotlib.pyplot as plt\n",
    "import seaborn as sns\n",
    "from joblib import Parallel, delayed\n",
    "\n",
    "%matplotlib inline\n",
    "\n",
    "pd.set_option('display.max_columns', None)\n",
    "pd.set_option('display.max_rows', None)\n",
    "\n",
    "warnings.filterwarnings('ignore')"
   ]
  },
  {
   "cell_type": "code",
   "execution_count": 2,
   "metadata": {
    "ExecuteTime": {
     "end_time": "2020-03-21T02:06:28.027158Z",
     "start_time": "2020-03-21T02:06:28.018988Z"
    }
   },
   "outputs": [],
   "source": [
    "next_action = pd.read_csv('./temp/next_action.csv')"
   ]
  },
  {
   "cell_type": "code",
   "execution_count": 3,
   "metadata": {
    "ExecuteTime": {
     "end_time": "2020-03-21T02:06:28.037318Z",
     "start_time": "2020-03-21T02:06:28.028192Z"
    }
   },
   "outputs": [
    {
     "data": {
      "text/html": [
       "<div>\n",
       "<style scoped>\n",
       "    .dataframe tbody tr th:only-of-type {\n",
       "        vertical-align: middle;\n",
       "    }\n",
       "\n",
       "    .dataframe tbody tr th {\n",
       "        vertical-align: top;\n",
       "    }\n",
       "\n",
       "    .dataframe thead th {\n",
       "        text-align: right;\n",
       "    }\n",
       "</style>\n",
       "<table border=\"1\" class=\"dataframe\">\n",
       "  <thead>\n",
       "    <tr style=\"text-align: right;\">\n",
       "      <th></th>\n",
       "      <th>id</th>\n",
       "    </tr>\n",
       "  </thead>\n",
       "  <tbody>\n",
       "    <tr>\n",
       "      <th>0</th>\n",
       "      <td>180471</td>\n",
       "    </tr>\n",
       "    <tr>\n",
       "      <th>1</th>\n",
       "      <td>169824</td>\n",
       "    </tr>\n",
       "    <tr>\n",
       "      <th>2</th>\n",
       "      <td>148111</td>\n",
       "    </tr>\n",
       "    <tr>\n",
       "      <th>3</th>\n",
       "      <td>37548</td>\n",
       "    </tr>\n",
       "    <tr>\n",
       "      <th>4</th>\n",
       "      <td>198064</td>\n",
       "    </tr>\n",
       "  </tbody>\n",
       "</table>\n",
       "</div>"
      ],
      "text/plain": [
       "       id\n",
       "0  180471\n",
       "1  169824\n",
       "2  148111\n",
       "3   37548\n",
       "4  198064"
      ]
     },
     "execution_count": 3,
     "metadata": {},
     "output_type": "execute_result"
    }
   ],
   "source": [
    "next_action.head()"
   ]
  },
  {
   "cell_type": "code",
   "execution_count": 4,
   "metadata": {
    "ExecuteTime": {
     "end_time": "2020-03-21T02:06:28.442488Z",
     "start_time": "2020-03-21T02:06:28.039872Z"
    }
   },
   "outputs": [
    {
     "name": "stdout",
     "output_type": "stream",
     "text": [
      "(223104, 12)\n",
      "(48277, 12)\n"
     ]
    }
   ],
   "source": [
    "df_feature = pd.read_pickle('./temp/base_feature.plk')\n",
    "print(df_feature.shape)\n",
    "df_feature = next_action.merge(df_feature, how='left')\n",
    "print(df_feature.shape)"
   ]
  },
  {
   "cell_type": "code",
   "execution_count": 5,
   "metadata": {
    "ExecuteTime": {
     "end_time": "2020-03-21T02:06:28.451429Z",
     "start_time": "2020-03-21T02:06:28.443697Z"
    }
   },
   "outputs": [
    {
     "data": {
      "text/plain": [
       "train    44058\n",
       "test      4219\n",
       "Name: type, dtype: int64"
      ]
     },
     "execution_count": 5,
     "metadata": {},
     "output_type": "execute_result"
    }
   ],
   "source": [
    "df_feature['type'].value_counts()"
   ]
  },
  {
   "cell_type": "code",
   "execution_count": 6,
   "metadata": {
    "ExecuteTime": {
     "end_time": "2020-03-21T02:06:28.464082Z",
     "start_time": "2020-03-21T02:06:28.452870Z"
    }
   },
   "outputs": [
    {
     "data": {
      "text/html": [
       "<div>\n",
       "<style scoped>\n",
       "    .dataframe tbody tr th:only-of-type {\n",
       "        vertical-align: middle;\n",
       "    }\n",
       "\n",
       "    .dataframe tbody tr th {\n",
       "        vertical-align: top;\n",
       "    }\n",
       "\n",
       "    .dataframe thead th {\n",
       "        text-align: right;\n",
       "    }\n",
       "</style>\n",
       "<table border=\"1\" class=\"dataframe\">\n",
       "  <thead>\n",
       "    <tr style=\"text-align: right;\">\n",
       "      <th></th>\n",
       "      <th>id</th>\n",
       "      <th>courier_id</th>\n",
       "      <th>wave_index</th>\n",
       "      <th>tracking_id</th>\n",
       "      <th>courier_wave_start_lng</th>\n",
       "      <th>courier_wave_start_lat</th>\n",
       "      <th>action_type</th>\n",
       "      <th>expect_time</th>\n",
       "      <th>date</th>\n",
       "      <th>type</th>\n",
       "      <th>target</th>\n",
       "      <th>group</th>\n",
       "    </tr>\n",
       "  </thead>\n",
       "  <tbody>\n",
       "    <tr>\n",
       "      <th>0</th>\n",
       "      <td>180471</td>\n",
       "      <td>113022562</td>\n",
       "      <td>7</td>\n",
       "      <td>2100075848504575532</td>\n",
       "      <td>121.664756</td>\n",
       "      <td>39.126681</td>\n",
       "      <td>DELIVERY</td>\n",
       "      <td>1582805393</td>\n",
       "      <td>20200227</td>\n",
       "      <td>train</td>\n",
       "      <td>0.0</td>\n",
       "      <td>202002271130225627</td>\n",
       "    </tr>\n",
       "    <tr>\n",
       "      <th>1</th>\n",
       "      <td>169824</td>\n",
       "      <td>10763831</td>\n",
       "      <td>3</td>\n",
       "      <td>2100075772351940457</td>\n",
       "      <td>121.647847</td>\n",
       "      <td>39.182563</td>\n",
       "      <td>DELIVERY</td>\n",
       "      <td>1582715538</td>\n",
       "      <td>20200226</td>\n",
       "      <td>train</td>\n",
       "      <td>0.0</td>\n",
       "      <td>20200226107638313</td>\n",
       "    </tr>\n",
       "    <tr>\n",
       "      <th>2</th>\n",
       "      <td>148111</td>\n",
       "      <td>117040001</td>\n",
       "      <td>4</td>\n",
       "      <td>2100075564260951834</td>\n",
       "      <td>121.274034</td>\n",
       "      <td>39.144168</td>\n",
       "      <td>DELIVERY</td>\n",
       "      <td>1582447161</td>\n",
       "      <td>20200223</td>\n",
       "      <td>train</td>\n",
       "      <td>0.0</td>\n",
       "      <td>202002231170400014</td>\n",
       "    </tr>\n",
       "    <tr>\n",
       "      <th>3</th>\n",
       "      <td>37548</td>\n",
       "      <td>121788009</td>\n",
       "      <td>0</td>\n",
       "      <td>2100074795103127326</td>\n",
       "      <td>121.531298</td>\n",
       "      <td>39.063920</td>\n",
       "      <td>DELIVERY</td>\n",
       "      <td>1581042537</td>\n",
       "      <td>20200207</td>\n",
       "      <td>train</td>\n",
       "      <td>0.0</td>\n",
       "      <td>202002071217880090</td>\n",
       "    </tr>\n",
       "    <tr>\n",
       "      <th>4</th>\n",
       "      <td>198064</td>\n",
       "      <td>103216602</td>\n",
       "      <td>1</td>\n",
       "      <td>2100075977366013802</td>\n",
       "      <td>121.764619</td>\n",
       "      <td>39.346054</td>\n",
       "      <td>DELIVERY</td>\n",
       "      <td>1582958995</td>\n",
       "      <td>20200229</td>\n",
       "      <td>train</td>\n",
       "      <td>0.0</td>\n",
       "      <td>202002291032166021</td>\n",
       "    </tr>\n",
       "  </tbody>\n",
       "</table>\n",
       "</div>"
      ],
      "text/plain": [
       "       id  courier_id  wave_index          tracking_id  \\\n",
       "0  180471   113022562           7  2100075848504575532   \n",
       "1  169824    10763831           3  2100075772351940457   \n",
       "2  148111   117040001           4  2100075564260951834   \n",
       "3   37548   121788009           0  2100074795103127326   \n",
       "4  198064   103216602           1  2100075977366013802   \n",
       "\n",
       "   courier_wave_start_lng  courier_wave_start_lat action_type  expect_time  \\\n",
       "0              121.664756               39.126681    DELIVERY   1582805393   \n",
       "1              121.647847               39.182563    DELIVERY   1582715538   \n",
       "2              121.274034               39.144168    DELIVERY   1582447161   \n",
       "3              121.531298               39.063920    DELIVERY   1581042537   \n",
       "4              121.764619               39.346054    DELIVERY   1582958995   \n",
       "\n",
       "       date   type  target               group  \n",
       "0  20200227  train     0.0  202002271130225627  \n",
       "1  20200226  train     0.0   20200226107638313  \n",
       "2  20200223  train     0.0  202002231170400014  \n",
       "3  20200207  train     0.0  202002071217880090  \n",
       "4  20200229  train     0.0  202002291032166021  "
      ]
     },
     "execution_count": 6,
     "metadata": {},
     "output_type": "execute_result"
    }
   ],
   "source": [
    "df_feature.head()"
   ]
  },
  {
   "cell_type": "code",
   "execution_count": 7,
   "metadata": {
    "ExecuteTime": {
     "end_time": "2020-03-21T02:06:28.560850Z",
     "start_time": "2020-03-21T02:06:28.465154Z"
    }
   },
   "outputs": [],
   "source": [
    "df_feature.to_pickle('./temp/part2_feature.plk')"
   ]
  },
  {
   "cell_type": "code",
   "execution_count": null,
   "metadata": {},
   "outputs": [],
   "source": []
  }
 ],
 "metadata": {
  "kernelspec": {
   "display_name": "Python 3",
   "language": "python",
   "name": "python3"
  },
  "language_info": {
   "codemirror_mode": {
    "name": "ipython",
    "version": 3
   },
   "file_extension": ".py",
   "mimetype": "text/x-python",
   "name": "python",
   "nbconvert_exporter": "python",
   "pygments_lexer": "ipython3",
   "version": "3.8.0"
  }
 },
 "nbformat": 4,
 "nbformat_minor": 2
}
